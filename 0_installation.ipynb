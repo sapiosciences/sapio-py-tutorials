{
 "cells": [
  {
   "cell_type": "markdown",
   "source": [
    "## Welcome!\n",
    "Welcome to Sapio Python client tutorial.\n",
    "\n",
    "This tutorial will cover installation and usages of the main Sapio client functions in Python. You will learn about different ways you can query Sapio Platform, manipulating records, editing ELN experiments, and hosting your own web-hook server that provides context-driven logic from Sapio as input.\n",
    "\n",
    "\n",
    "## Star Sapio in GitHub\n",
    "If you like this tutorial, please star [our GitHub repository](https://github.com/sapiosciences/sapio-py-tutorials) to raise awareness among our customer base!\n"
   ],
   "metadata": {
    "collapsed": false
   }
  },
  {
   "cell_type": "markdown",
   "source": [
    "## System Requirements\n",
    "Use of this library requires you to have installed **Python 3.10 or higher** as your Python environment, and it also requires you to have installed \"pip\" for Python environment.\n",
    "\n",
    "If your system has an older version of Python installed, you may keep the older version of Python and sandbox Sapio inside Anaconda environment of another Python shell install. In general, if you are not using a cloud environment such as Google CoLab, you may find it easier to maintain your installation with Anaconda/Miniconda. [Please refer to their tutorials for details.](https://www.anaconda.com/)\n",
    "\n",
    "If you are launching from Anaconda, check to make sure you have pip installed within the anaconda sandbox and it is not referencing the global Python environment.\n",
    "\n",
    "In Linux, you can confirm your pip installation environment by typing.\n",
    "\n",
    "    which pip\n",
    "Look at the path in the output. If you are using Anaconda, this should point to your conda root. If it does not, you may need to install pip onto your conda environment.\n",
    "\n",
    "    conda install pip\n",
    "\n",
    "## Installation\n",
    "\n",
    "Installation is quick and easy -- it's just one line of code!\n",
    "\n",
    "If you are launching from a Juypter Notebook environment. (This would include Amazon SageMaker Notebooks and Google CoLab), your command will be as follows:\n",
    "\n",
    "    !pip install sapiopylib==2023.10.6.154\n",
    "\n",
    "Remove the \"!\" prefix in the command if you are launching directly from terminal, like so:\n",
    "\n",
    "    pip install sapiopylib==2023.10.6.154\n",
    "\n",
    "## Special Notes about Google CoLab\n",
    "\n",
    " - This library is compatible with Google CoLab's default kernel, which runs Python 3.10.\n",
    " - While we may demo frequently in Google CoLab because it looks cool, you are not required to use Google CoLab. And debugging may be easier if you run on PyCharm or Intellij Ultimate.\n",
    " - If your runtime has been deleted (for being disconnected from Internet and using the Free edition, or being disconnected for more than idle time for Pro editions), you may have to re-install using pip again when you accessioned a new environment.\n",
    " - **[Google CoLab Terms of Service may prevent you from using webhook server functions.](https://research.google.com/colaboratory/faq.html)** Connecting as a client seems fine at this time. Sapio will not be held liable from any damages caused by ToS violations of Google CoLab terms. Please read the terms carefully. In general, you would want to have a high-availability server to run as a webhook server anyways unless you are just playing around in devs/demos.\n"
   ],
   "metadata": {
    "collapsed": false
   }
  }
 ],
 "metadata": {
  "kernelspec": {
   "display_name": "Python 3",
   "language": "python",
   "name": "python3"
  },
  "language_info": {
   "codemirror_mode": {
    "name": "ipython",
    "version": 2
   },
   "file_extension": ".py",
   "mimetype": "text/x-python",
   "name": "python",
   "nbconvert_exporter": "python",
   "pygments_lexer": "ipython2",
   "version": "2.7.6"
  }
 },
 "nbformat": 4,
 "nbformat_minor": 0
}
